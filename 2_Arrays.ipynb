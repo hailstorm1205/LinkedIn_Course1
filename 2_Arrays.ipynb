{
 "cells": [
  {
   "cell_type": "markdown",
   "metadata": {},
   "source": [
    "# Arrays\n",
    "A collection of elements, where each item is identified by an index or a key.\n",
    "\n",
    "### Example\n",
    "||||||\n",
    "|-|-|-|-|-|\n",
    "| **Index** | 0 | 1 | 2 | 3 |\n",
    "| **Value** | h | i | y | a | \n",
    "\n",
    "***"
   ]
  },
  {
   "cell_type": "markdown",
   "metadata": {},
   "source": [
    "## Java Syntax\n",
    "int[] = lotteryNumbers = {0,2,18,40,14,30};\n",
    "\n",
    "int first = lotteryNumbers[0];\n",
    "\n",
    "## Python Syntax\n",
    "lotteryNumbers = [0,2,18,40,14,30]\n",
    "\n",
    "second = lotteryNumbers[1]\n",
    "\n",
    "***"
   ]
  },
  {
   "cell_type": "code",
   "execution_count": 31,
   "metadata": {},
   "outputs": [
    {
     "name": "stdout",
     "output_type": "stream",
     "text": [
      "# Pets Per Student: [1, 3, 5]\n",
      "# Total Pets: 9\n",
      "Average # Pets: 3\n"
     ]
    }
   ],
   "source": [
    "import random\n",
    "import math\n",
    "\n",
    "#Define variables\n",
    "numStudents = random.randint(1,12) #Randomly determine # students\n",
    "perStudentPetCount = []\n",
    "#Randomly determine # pets for each student\n",
    "for student in range(numStudents):\n",
    "    perStudentPetCount.append(random.randint(0,5))\n",
    "#Print output\n",
    "print(\"# Pets Per Student:\", perStudentPetCount)\n",
    "\n",
    "#Define variable\n",
    "petSum = 0\n",
    "#Calculate sum\n",
    "for indPetCount in perStudentPetCount:\n",
    "    petSum += indPetCount\n",
    "#Print output\n",
    "print(\"# Total Pets:\", petSum)\n",
    "\n",
    "#Define and calculate average\n",
    "avg = math.floor(petSum / numStudents)\n",
    "#Print output\n",
    "print(\"Average # Pets:\", avg)"
   ]
  },
  {
   "cell_type": "markdown",
   "metadata": {},
   "source": [
    "# Multidimensional Arrays"
   ]
  },
  {
   "cell_type": "code",
   "execution_count": 34,
   "metadata": {},
   "outputs": [
    {
     "name": "stdout",
     "output_type": "stream",
     "text": [
      "Salad, Soup, Lasagna\n",
      "[['Salad', 'Soup', 'Cheese Plate'], ['Steak', 'Salmon', 'Lasagna']]\n",
      "Steak\n"
     ]
    }
   ],
   "source": [
    "#Define variables\n",
    "dinnerChoices = [[\"Salad\", \"Soup\", \"Cheese Plate\"], [\"Chicken\", \"Salmon\", \"Lasagna\"]]\n",
    "appIndex = 0\n",
    "mainDishIndex = 1\n",
    "\n",
    "#Find values\n",
    "firstApp = dinnerChoices[appIndex][0]\n",
    "secondApp = dinnerChoices[appIndex][1]\n",
    "thirdMainDish = dinnerChoices[mainDishIndex][2]\n",
    "#Print outputs\n",
    "print(firstApp + \", \" + secondApp + \", \" + thirdMainDish)\n",
    "\n",
    "#Change 2d array value\n",
    "dinnerChoices[1][0] = \"Steak\"\n",
    "#Print output\n",
    "print(dinnerChoices)\n",
    "print(dinnerChoices[1][0])"
   ]
  },
  {
   "cell_type": "markdown",
   "metadata": {},
   "source": [
    "# Jagged Array\n",
    "\n",
    "C# (unlike some other languages) differentiates between multidimensional and jagged arrays\n",
    "\n",
    "Basic arrays in Java and C++ **CANNOT** be resized\n",
    "Basic arrays in Ruby and Javascript **CAN** be resized\n",
    "\n",
    "***"
   ]
  },
  {
   "cell_type": "markdown",
   "metadata": {},
   "source": [
    "# Search Array\n",
    "\n",
    "## Linear Search\n",
    "\n",
    "**Best Case:** First item in array is key\n",
    "\n",
    "**Worst Case:** Last item in array is key\n",
    "\n",
    "***"
   ]
  },
  {
   "cell_type": "markdown",
   "metadata": {},
   "source": [
    "# Big O Notation\n",
    "\n",
    "Notation used to describe the performance or complexity of an algorithm\n",
    "\n",
    "## Operations\n",
    "* Access\n",
    "* Updated\n",
    "* Insertion\n",
    "    * **Best Case:** Large enough array --> O(1) time\n",
    "    * **Worst Case:** Array is full --> O(n) time (Linear time)\n",
    "* Search\n",
    "    * **Best Case:** Compare to item --> O(1) time\n",
    "    * **Worst Case:** Item does not exist --> O(n) time\n",
    "* Delete\n",
    "    * **Best Case:** Locate and delete item --> O(1) time\n",
    "    * **Worst Case:** Search, then locate, then delete item --> O(n) time\n",
    "* Sort (Different types of sorts)\n",
    "\n",
    "## O(1) Time (Constant Time)\n",
    "\n",
    "Consistent duration of algorithm execution in same time (or space) regardless of the size of the input\n",
    "\n",
    "### If you plan on inserting once and accessing a bunch, then an array is a good data structure to use !!\n",
    "\n",
    "***"
   ]
  }
 ],
 "metadata": {
  "kernelspec": {
   "display_name": "Python 3.8.2 64-bit",
   "name": "python382jvsc74a57bd031f2aee4e71d21fbe5cf8b01ff0e069b9275f58929596ceb00d14d90e3e16cd6"
  },
  "language_info": {
   "codemirror_mode": {
    "name": "ipython",
    "version": 3
   },
   "file_extension": ".py",
   "mimetype": "text/x-python",
   "name": "python",
   "nbconvert_exporter": "python",
   "pygments_lexer": "ipython3",
   "version": "3.8.2"
  },
  "metadata": {
   "interpreter": {
    "hash": "31f2aee4e71d21fbe5cf8b01ff0e069b9275f58929596ceb00d14d90e3e16cd6"
   }
  },
  "orig_nbformat": 2
 },
 "nbformat": 4,
 "nbformat_minor": 2
}