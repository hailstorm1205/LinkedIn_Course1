{
 "cells": [
  {
   "cell_type": "markdown",
   "metadata": {},
   "source": [
    "# Arrays\n",
    "A collection of elements, where each item is identified by an index or a key.\n",
    "\n",
    "### Example\n",
    "||||||\n",
    "|-|-|-|-|-|\n",
    "| **Index** | 0 | 1 | 2 | 3 |\n",
    "| **Value** | h | i | y | a | \n",
    "\n",
    "***"
   ]
  },
  {
   "cell_type": "markdown",
   "metadata": {},
   "source": [
    "## Java Syntax\n",
    "int[] = lotteryNumbers = {0,2,18,40,14,30};\n",
    "\n",
    "int first = lotteryNumbers[0];\n",
    "\n",
    "## Python Syntax\n",
    "lotteryNumbers = [0,2,18,40,14,30]\n",
    "\n",
    "second = lotteryNumbers[1]\n",
    "\n",
    "***"
   ]
  },
  {
   "cell_type": "code",
   "execution_count": 31,
   "metadata": {},
   "outputs": [
    {
     "name": "stdout",
     "output_type": "stream",
     "text": [
      "# Pets Per Student: [1, 3, 5]\n",
      "# Total Pets: 9\n",
      "Average # Pets: 3\n"
     ]
    }
   ],
   "source": [
    "import random\n",
    "import math\n",
    "\n",
    "#Define variables\n",
    "numStudents = random.randint(1,12) #Randomly determine # students\n",
    "perStudentPetCount = []\n",
    "#Randomly determine # pets for each student\n",
    "for student in range(numStudents):\n",
    "    perStudentPetCount.append(random.randint(0,5))\n",
    "#Print output\n",
    "print(\"# Pets Per Student:\", perStudentPetCount)\n",
    "\n",
    "#Define variable\n",
    "petSum = 0\n",
    "#Calculate sum\n",
    "for indPetCount in perStudentPetCount:\n",
    "    petSum += indPetCount\n",
    "#Print output\n",
    "print(\"# Total Pets:\", petSum)\n",
    "\n",
    "#Define and calculate average\n",
    "avg = math.floor(petSum / numStudents)\n",
    "#Print output\n",
    "print(\"Average # Pets:\", avg)"
   ]
  }
 ],
 "metadata": {
  "kernelspec": {
   "display_name": "Python 3.8.2 64-bit",
   "name": "python382jvsc74a57bd031f2aee4e71d21fbe5cf8b01ff0e069b9275f58929596ceb00d14d90e3e16cd6"
  },
  "language_info": {
   "codemirror_mode": {
    "name": "ipython",
    "version": 3
   },
   "file_extension": ".py",
   "mimetype": "text/x-python",
   "name": "python",
   "nbconvert_exporter": "python",
   "pygments_lexer": "ipython3",
   "version": "3.8.2"
  },
  "metadata": {
   "interpreter": {
    "hash": "31f2aee4e71d21fbe5cf8b01ff0e069b9275f58929596ceb00d14d90e3e16cd6"
   }
  },
  "orig_nbformat": 2
 },
 "nbformat": 4,
 "nbformat_minor": 2
}