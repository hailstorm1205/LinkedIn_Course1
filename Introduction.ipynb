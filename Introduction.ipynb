{
 "cells": [
  {
   "cell_type": "markdown",
   "metadata": {},
   "source": [
    "# Java Data Type Storage\n",
    "\n",
    "## Whole Numbers\n",
    "\n",
    "| Data Type | Range of Numbers | Storage Space |\n",
    "|------|------|------|\n",
    "| **Short** | -32,768 to 32,767 | 16 bits |\n",
    "| **Int** | ~-2 billion to 2 billion | 32 bits |\n",
    "| **Long** | -(2^63) to 2^63 | 64 bits |\n",
    "\n",
    "## Decimal Numbers\n",
    "\n",
    "| Data Type | Range of Numbers | Storage Space |\n",
    "|------|------|------|\n",
    "| **Float** | ~7 decimal digits | 32 bits |\n",
    "| **Double** | ~16 decimal digits | 64 bits |"
   ]
  },
  {
   "cell_type": "markdown",
   "metadata": {},
   "source": [
    "# Signed vs Unsigned Numerical Data Types\n",
    "\n",
    "## Signed\n",
    "* Positive and negative values\n",
    "* __Example:__ 16-bit short range: -32,768 to 32,767\n",
    "\n",
    "## Unsigned\n",
    "* Only positive values\n",
    "* __Example:__ 16-bit short range: 0 to 65,535"
   ]
  },
  {
   "cell_type": "markdown",
   "metadata": {},
   "source": []
  }
 ],
 "metadata": {
  "kernelspec": {
   "display_name": "Python 3.8.2 64-bit",
   "name": "python382jvsc74a57bd031f2aee4e71d21fbe5cf8b01ff0e069b9275f58929596ceb00d14d90e3e16cd6"
  },
  "language_info": {
   "name": "python",
   "version": ""
  },
  "metadata": {
   "interpreter": {
    "hash": "31f2aee4e71d21fbe5cf8b01ff0e069b9275f58929596ceb00d14d90e3e16cd6"
   }
  },
  "orig_nbformat": 2
 },
 "nbformat": 4,
 "nbformat_minor": 2
}