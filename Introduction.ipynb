{
 "cells": [
  {
   "cell_type": "markdown",
   "metadata": {},
   "source": [
    "# Java Data Type Storage\n",
    "\n",
    "## Whole Numbers\n",
    "\n",
    "| Data Type | Range of Numbers | Storage Space |\n",
    "|------|------|------|\n",
    "| **Short** | -32,768 to 32,767 | 16 bits |\n",
    "| **Int** | ~-2 billion to 2 billion | 32 bits |\n",
    "| **Long** | -(2^63) to 2^63 | 64 bits |\n",
    "\n",
    "## Decimal Numbers\n",
    "\n",
    "| Data Type | Range of Numbers | Storage Space |\n",
    "|------|------|------|\n",
    "| **Float** | ~7 decimal digits | 32 bits |\n",
    "| **Double** | ~16 decimal digits | 64 bits |\n",
    "\n",
    "A single 1 or 0 is a bit\n",
    "\n",
    "A boolean is 1 bit\n",
    "\n",
    "***"
   ]
  },
  {
   "cell_type": "markdown",
   "metadata": {},
   "source": [
    "# Signed vs Unsigned Numerical Data Types\n",
    "\n",
    "## Signed\n",
    "* Positive and negative values\n",
    "* __Example:__ 16-bit short range: -32,768 to 32,767\n",
    "\n",
    "## Unsigned\n",
    "* Only positive values\n",
    "* __Example:__ 16-bit short range: 0 to 65,535\n",
    "\n",
    "***"
   ]
  },
  {
   "cell_type": "markdown",
   "metadata": {},
   "source": [
    "## The exact size of a data structure depends on...\n",
    "* Allocated space for structure\n",
    "* Number of pieces of data\n",
    "* Size of each data piece\n",
    "\n",
    "***"
   ]
  },
  {
   "cell_type": "markdown",
   "metadata": {},
   "source": [
    "# Example\n",
    "\n",
    "## Collection A\n",
    "\n",
    "| 3 | 1 |\n",
    "|---|---|\n",
    "|00000011|00000001|\n",
    "\n",
    "## Collection B\n",
    "\n",
    "| 2 | 4 |\n",
    "|---|---|\n",
    "|00000010|00000100|\n",
    "\n",
    "Replace 2 with 5... BAD!!\n",
    "\n",
    "| 5 | 4 |\n",
    "|---|---|\n",
    "|00000101|00000100|\n",
    "\n",
    "## Solve this problem using pointers\n",
    "\n",
    "Pointers create an address that points to where the structure (or part of the structure) is in memory\n",
    "\n",
    "***"
   ]
  },
  {
   "cell_type": "markdown",
   "metadata": {},
   "source": [
    "## Referenced Types\n",
    "**(variableName -> memoryAddress -> value)**\n",
    "* Strings\n",
    "* Data Structures\n",
    "\n",
    "## Primitive Types\n",
    "**(variableName -> data)**\n",
    "* int\n",
    "* boolean\n",
    "* character\n",
    "* float\n",
    "* double\n",
    "* short\n",
    "* long\n",
    "\n",
    "***"
   ]
  }
 ],
 "metadata": {
  "kernelspec": {
   "display_name": "Python 3.8.2 64-bit",
   "name": "python382jvsc74a57bd031f2aee4e71d21fbe5cf8b01ff0e069b9275f58929596ceb00d14d90e3e16cd6"
  },
  "language_info": {
   "name": "python",
   "version": ""
  },
  "metadata": {
   "interpreter": {
    "hash": "31f2aee4e71d21fbe5cf8b01ff0e069b9275f58929596ceb00d14d90e3e16cd6"
   }
  },
  "orig_nbformat": 2
 },
 "nbformat": 4,
 "nbformat_minor": 2
}